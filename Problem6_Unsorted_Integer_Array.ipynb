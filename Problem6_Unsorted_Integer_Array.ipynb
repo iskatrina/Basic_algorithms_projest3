{
 "cells": [
  {
   "cell_type": "code",
   "execution_count": 8,
   "id": "a189b7a0",
   "metadata": {},
   "outputs": [],
   "source": [
    "def get_min_max(ints):\n",
    "    \"\"\"\n",
    "    Return a tuple(min, max) out of list of unsorted integers.\n",
    "    \n",
    "    Args:\n",
    "       ints(list): list of integers containing one or more integers   \n",
    "\n",
    "    \"\"\"\n",
    "    #if list of integers is empty\n",
    "    if ints == []:\n",
    "        return (None,None)\n",
    "    \n",
    "    min_elem = ints[0]\n",
    "    max_elem = ints[0]\n",
    "        \n",
    "    #single traversal\n",
    "    for elem in ints[1:]:\n",
    "        if min_elem > elem:\n",
    "            min_elem = elem\n",
    "        if max_elem < elem:\n",
    "            max_elem = elem\n",
    "            \n",
    "    return (min_elem,max_elem)\n",
    "\n"
   ]
  },
  {
   "cell_type": "markdown",
   "id": "13f2f18f",
   "metadata": {},
   "source": [
    "### Time complexity:\n",
    "<br>This algorithm has a time complexity of O(n), where n is the number of elements in the list. \n",
    "<br>It performs a single traversal through the list, updating the minimum and maximum elements.\n",
    "<br> This approach is both simple and efficient for finding both the minimum and maximum elements with a linear scan and asked/required time complexity of O(n).\n",
    "\n",
    "### Space complexity:\n",
    "<br> = is O(1), which is constant. \n",
    "<br> - The reason for this is that the algorithm uses a fixed number of variables (min_element and max_element) to store the current minimum and maximum values. The space required does not depend on the size of the input list\n",
    "<br> - it remains constant regardless of the number of elements in the list."
   ]
  },
  {
   "cell_type": "code",
   "execution_count": 9,
   "id": "e7f3d515",
   "metadata": {},
   "outputs": [
    {
     "name": "stdout",
     "output_type": "stream",
     "text": [
      "Pass\n"
     ]
    }
   ],
   "source": [
    "### Example Test Case of Ten Integers\n",
    "import random\n",
    "\n",
    "l = [i for i in range(0, 10)]  # a list containing 0 - 9\n",
    "random.shuffle(l)\n",
    "\n",
    "print (\"Pass\" if ((0, 9) == get_min_max(l)) else \"Fail\")"
   ]
  },
  {
   "cell_type": "code",
   "execution_count": 6,
   "id": "c6a51e9a",
   "metadata": {},
   "outputs": [],
   "source": [
    "### Example Test Case of Ten Integers\n",
    "import random\n",
    "l = [i for i in range(0, 10)]  # a list containing 0 - 9\n",
    "random.shuffle(l)"
   ]
  },
  {
   "cell_type": "code",
   "execution_count": 7,
   "id": "207d4721",
   "metadata": {},
   "outputs": [
    {
     "data": {
      "text/plain": [
       "[3, 0, 1, 5, 6, 4, 9, 7, 8, 2]"
      ]
     },
     "execution_count": 7,
     "metadata": {},
     "output_type": "execute_result"
    }
   ],
   "source": [
    "l"
   ]
  },
  {
   "cell_type": "markdown",
   "id": "b2fb34ba",
   "metadata": {},
   "source": [
    "## My test cases:\n",
    "\n"
   ]
  },
  {
   "cell_type": "markdown",
   "id": "922e16bd",
   "metadata": {},
   "source": [
    "### Test case1(empty):"
   ]
  },
  {
   "cell_type": "code",
   "execution_count": 19,
   "id": "8dd33d22",
   "metadata": {},
   "outputs": [
    {
     "name": "stdout",
     "output_type": "stream",
     "text": [
      "Pass\n"
     ]
    }
   ],
   "source": [
    "\n",
    "\n",
    "import random\n",
    "\n",
    "l = [i for i in range(0, 0)]  # a list containing 0 - 9\n",
    "random.shuffle(l)\n",
    "\n",
    "print (\"Pass\" if ((None, None) == get_min_max(l)) else \"Fail\")"
   ]
  },
  {
   "cell_type": "markdown",
   "id": "9857b579",
   "metadata": {},
   "source": [
    "### Test case2(very large):"
   ]
  },
  {
   "cell_type": "code",
   "execution_count": 17,
   "id": "cf4a366e",
   "metadata": {},
   "outputs": [
    {
     "name": "stdout",
     "output_type": "stream",
     "text": [
      "Pass\n"
     ]
    }
   ],
   "source": [
    "l = [i for i in range(3, 10000004)]  # a list containing 0 - 9\n",
    "random.shuffle(l)\n",
    "\n",
    "print (\"Pass\" if ((3, 10000003) == get_min_max(l)) else \"Fail\")"
   ]
  },
  {
   "cell_type": "markdown",
   "id": "e42cede7",
   "metadata": {},
   "source": [
    "### Test case3:"
   ]
  },
  {
   "cell_type": "code",
   "execution_count": 18,
   "id": "adcb2d68",
   "metadata": {},
   "outputs": [
    {
     "name": "stdout",
     "output_type": "stream",
     "text": [
      "Pass\n"
     ]
    }
   ],
   "source": [
    "\n",
    "\n",
    "l = [i for i in range(-100, 200)]  # a list containing 0 - 9\n",
    "random.shuffle(l)\n",
    "\n",
    "print (\"Pass\" if ((-100,199) == get_min_max(l)) else \"Fail\")\n",
    "\n"
   ]
  },
  {
   "cell_type": "code",
   "execution_count": null,
   "id": "db244b3a",
   "metadata": {},
   "outputs": [],
   "source": []
  }
 ],
 "metadata": {
  "kernelspec": {
   "display_name": "Python 3 (ipykernel)",
   "language": "python",
   "name": "python3"
  },
  "language_info": {
   "codemirror_mode": {
    "name": "ipython",
    "version": 3
   },
   "file_extension": ".py",
   "mimetype": "text/x-python",
   "name": "python",
   "nbconvert_exporter": "python",
   "pygments_lexer": "ipython3",
   "version": "3.9.7"
  }
 },
 "nbformat": 4,
 "nbformat_minor": 5
}
