{
 "cells": [
  {
   "cell_type": "code",
   "execution_count": 26,
   "id": "57a625e9",
   "metadata": {},
   "outputs": [],
   "source": [
    "def rotated_array_search(input_list, number):\n",
    "    \"\"\"\n",
    "    Find the index by searching in a rotated sorted array\n",
    "\n",
    "    Args:\n",
    "       input_list(array), number(int): Input array to search and the target\n",
    "    Returns:\n",
    "       int: Index or -1\n",
    "    \"\"\"\n",
    "    \n",
    "    if input_list  == []:\n",
    "        return -1\n",
    "    \n",
    "    start = 0\n",
    "    end = len(input_list)-1\n",
    "    \n",
    "    while start <= end:\n",
    "        mid = (start + end) // 2\n",
    "        \n",
    "        if input_list[mid] == number:\n",
    "            return mid\n",
    "        \n",
    "        if input_list[start] <= input_list[mid]:\n",
    "            if input_list[start] <= number <= input_list[mid-1]:\n",
    "                end = mid - 1\n",
    "            else:\n",
    "                start = start + 1\n",
    "                \n",
    "        else:\n",
    "            if input_list[mid] <= number <= input_list[end]:\n",
    "                start = mid+1\n",
    "            else:\n",
    "                end = mid-1\n",
    "\n",
    "    \n",
    "    return -1\n",
    "\n"
   ]
  },
  {
   "cell_type": "code",
   "execution_count": 27,
   "id": "6641ae3b",
   "metadata": {},
   "outputs": [],
   "source": [
    "def linear_search(input_list, number):\n",
    "    for index, element in enumerate(input_list):\n",
    "        if element == number:\n",
    "            return index\n",
    "    return -1\n",
    "    \n",
    "\n",
    "\n",
    "def test_function(test_case):\n",
    "    input_list = test_case[0]\n",
    "    number = test_case[1]\n",
    "    if linear_search(input_list, number) == rotated_array_search(input_list, number):\n",
    "        print(\"Pass\")\n",
    "    else:\n",
    "        print(\"Fail\")\n",
    "\n"
   ]
  },
  {
   "cell_type": "code",
   "execution_count": 28,
   "id": "692f608c",
   "metadata": {},
   "outputs": [
    {
     "name": "stdout",
     "output_type": "stream",
     "text": [
      "Pass\n",
      "Pass\n"
     ]
    }
   ],
   "source": [
    "test_function([[6, 7, 8, 9, 10, 1, 2, 3, 4], 6])\n",
    "test_function([[6, 7, 8, 9, 10, 1, 2, 3, 4], 1])\n"
   ]
  },
  {
   "cell_type": "code",
   "execution_count": 29,
   "id": "2d41a1e2",
   "metadata": {},
   "outputs": [
    {
     "name": "stdout",
     "output_type": "stream",
     "text": [
      "Pass\n"
     ]
    }
   ],
   "source": [
    "test_function([[6, 7, 8, 1, 2, 3, 4], 8])\n"
   ]
  },
  {
   "cell_type": "code",
   "execution_count": 30,
   "id": "3d4397ce",
   "metadata": {},
   "outputs": [
    {
     "name": "stdout",
     "output_type": "stream",
     "text": [
      "Pass\n"
     ]
    }
   ],
   "source": [
    "test_function([[6, 7, 8, 1, 2, 3, 4], 1])\n"
   ]
  },
  {
   "cell_type": "code",
   "execution_count": 31,
   "id": "b32edf9d",
   "metadata": {},
   "outputs": [
    {
     "name": "stdout",
     "output_type": "stream",
     "text": [
      "Pass\n"
     ]
    }
   ],
   "source": [
    "test_function([[6, 7, 8, 1, 2, 3, 4], 10])"
   ]
  },
  {
   "cell_type": "markdown",
   "id": "b086278d",
   "metadata": {},
   "source": [
    "## Test cases:"
   ]
  },
  {
   "cell_type": "markdown",
   "id": "201f00e2",
   "metadata": {},
   "source": [
    "### test case1(empty):"
   ]
  },
  {
   "cell_type": "code",
   "execution_count": 35,
   "id": "ede8a1c7",
   "metadata": {},
   "outputs": [
    {
     "name": "stdout",
     "output_type": "stream",
     "text": [
      "Pass\n"
     ]
    }
   ],
   "source": [
    "test_function([[], 10])"
   ]
  },
  {
   "cell_type": "markdown",
   "id": "25d665f2",
   "metadata": {},
   "source": [
    "### test case2(first element in array):"
   ]
  },
  {
   "cell_type": "code",
   "execution_count": 38,
   "id": "2f9a5e3c",
   "metadata": {},
   "outputs": [
    {
     "name": "stdout",
     "output_type": "stream",
     "text": [
      "Pass\n"
     ]
    }
   ],
   "source": [
    "test_function([[1,2,3,4,5,6,7,8,9,10,11,12,13,14,15,16,17,18], 1])"
   ]
  },
  {
   "cell_type": "markdown",
   "id": "5032404e",
   "metadata": {},
   "source": [
    "### test case3(very large array)"
   ]
  },
  {
   "cell_type": "code",
   "execution_count": 45,
   "id": "73a2f4fe",
   "metadata": {},
   "outputs": [
    {
     "name": "stdout",
     "output_type": "stream",
     "text": [
      "Pass\n"
     ]
    }
   ],
   "source": [
    "arr = [i for i in  range(0,1000000000)]\n",
    "number = 1000000003\n",
    "test_function([arr, 1000000002])"
   ]
  },
  {
   "cell_type": "code",
   "execution_count": null,
   "id": "f470a118",
   "metadata": {},
   "outputs": [],
   "source": []
  }
 ],
 "metadata": {
  "kernelspec": {
   "display_name": "Python 3 (ipykernel)",
   "language": "python",
   "name": "python3"
  },
  "language_info": {
   "codemirror_mode": {
    "name": "ipython",
    "version": 3
   },
   "file_extension": ".py",
   "mimetype": "text/x-python",
   "name": "python",
   "nbconvert_exporter": "python",
   "pygments_lexer": "ipython3",
   "version": "3.9.7"
  }
 },
 "nbformat": 4,
 "nbformat_minor": 5
}
