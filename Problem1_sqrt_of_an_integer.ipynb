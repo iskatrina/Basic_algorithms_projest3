{
 "cells": [
  {
   "cell_type": "code",
   "execution_count": 1,
   "id": "57331ffd",
   "metadata": {},
   "outputs": [],
   "source": [
    "import pandas as pd\n"
   ]
  },
  {
   "cell_type": "code",
   "execution_count": 112,
   "id": "d0609961",
   "metadata": {},
   "outputs": [],
   "source": [
    "def sqrt(number):\n",
    "    \"\"\"\n",
    "    Calculate the floored square root of a number\n",
    "\n",
    "    Args:\n",
    "       number(int): Number to find the floored squared root\n",
    "    Returns:\n",
    "       int: Floored Square Root\n",
    "       \n",
    "    \"\"\"\n",
    "\n",
    "    if number < 0:\n",
    "        return None\n",
    "    \n",
    "    if number == 0:\n",
    "        return 0\n",
    "    if number == 1:\n",
    "        return 1\n",
    "    \n",
    "    result = 1\n",
    "    for i in range(1,int(number)):\n",
    "        if number >= i**2:\n",
    "            result = i\n",
    "        else:\n",
    "            \n",
    "            return result\n",
    "           \n",
    "    "
   ]
  },
  {
   "cell_type": "markdown",
   "id": "d30b0720",
   "metadata": {},
   "source": [
    "## The time complexity of my first sqrt function is O(n)"
   ]
  },
  {
   "cell_type": "code",
   "execution_count": 177,
   "id": "c1b172dd",
   "metadata": {},
   "outputs": [],
   "source": [
    "def sqrt(number):\n",
    "    \"\"\"\n",
    "    Calculate the floored square root of a number\n",
    "\n",
    "    Args:\n",
    "       number(int): Number to find the floored squared root\n",
    "    Returns:\n",
    "       int: Floored Square Root\n",
    "       \n",
    "    \"\"\"\n",
    "\n",
    "    if number < 0:\n",
    "        return None\n",
    "    \n",
    "    if number == 0:\n",
    "        return 0\n",
    "    if number == 1:\n",
    "        return 1\n",
    "    \n",
    "    start = 1\n",
    "    end = number\n",
    "    \n",
    "    \n",
    "    while start <= end:\n",
    "        mid_element = (start + end)// 2\n",
    "    \n",
    "        if number == mid_element * mid_element:\n",
    "            result = mid_element\n",
    "            return result\n",
    "        elif number > mid_element * mid_element:\n",
    "            start = mid_element + 1\n",
    "            result = mid_element\n",
    "        elif number < mid_element * mid_element:\n",
    "            end = mid_element - 1\n",
    "            #result = mid_element\n",
    "            \n",
    "    return result\n"
   ]
  },
  {
   "cell_type": "markdown",
   "id": "c20f4691",
   "metadata": {},
   "source": [
    "## The time complexity of mysecond sqrt function is O(log(n))"
   ]
  },
  {
   "cell_type": "code",
   "execution_count": 178,
   "id": "79e741ce",
   "metadata": {},
   "outputs": [
    {
     "name": "stdout",
     "output_type": "stream",
     "text": [
      "Pass\n"
     ]
    }
   ],
   "source": [
    "print (\"Pass\" if  (3 == sqrt(9)) else \"Fail\")\n"
   ]
  },
  {
   "cell_type": "code",
   "execution_count": 179,
   "id": "46f36613",
   "metadata": {},
   "outputs": [
    {
     "name": "stdout",
     "output_type": "stream",
     "text": [
      "Pass\n"
     ]
    }
   ],
   "source": [
    "print (\"Pass\" if  (0 == sqrt(0)) else \"Fail\")\n"
   ]
  },
  {
   "cell_type": "code",
   "execution_count": 180,
   "id": "cc8dddfb",
   "metadata": {},
   "outputs": [
    {
     "name": "stdout",
     "output_type": "stream",
     "text": [
      "Pass\n"
     ]
    }
   ],
   "source": [
    "print (\"Pass\" if  (4 == sqrt(16)) else \"Fail\")\n"
   ]
  },
  {
   "cell_type": "code",
   "execution_count": 181,
   "id": "59c3ea24",
   "metadata": {},
   "outputs": [
    {
     "name": "stdout",
     "output_type": "stream",
     "text": [
      "Pass\n"
     ]
    }
   ],
   "source": [
    "print (\"Pass\" if  (1 == sqrt(1)) else \"Fail\")\n"
   ]
  },
  {
   "cell_type": "code",
   "execution_count": 182,
   "id": "d44692fa",
   "metadata": {},
   "outputs": [
    {
     "name": "stdout",
     "output_type": "stream",
     "text": [
      "Pass\n"
     ]
    }
   ],
   "source": [
    "print (\"Pass\" if  (5 == sqrt(27)) else \"Fail\")"
   ]
  },
  {
   "cell_type": "markdown",
   "id": "94db6d44",
   "metadata": {},
   "source": [
    "##  Test cases :"
   ]
  },
  {
   "cell_type": "markdown",
   "id": "43607e2b",
   "metadata": {},
   "source": [
    "### Case1"
   ]
  },
  {
   "cell_type": "code",
   "execution_count": 183,
   "id": "9a1d8d39",
   "metadata": {},
   "outputs": [
    {
     "name": "stdout",
     "output_type": "stream",
     "text": [
      "Pass\n"
     ]
    }
   ],
   "source": [
    "import math\n",
    "print (\"Pass\" if  (int(math.sqrt(1000000)) == sqrt(1000000)) else \"Fail\")\n"
   ]
  },
  {
   "cell_type": "markdown",
   "id": "7c0e2734",
   "metadata": {},
   "source": [
    "### Case2"
   ]
  },
  {
   "cell_type": "code",
   "execution_count": 184,
   "id": "410e0d5c",
   "metadata": {},
   "outputs": [
    {
     "name": "stdout",
     "output_type": "stream",
     "text": [
      "Pass\n"
     ]
    }
   ],
   "source": [
    "print (\"Pass\" if  (int(math.sqrt(10000000000000)) == sqrt(10000000000000)) else \"Fail\")\n"
   ]
  },
  {
   "cell_type": "markdown",
   "id": "6f653fea",
   "metadata": {},
   "source": [
    "### Case3"
   ]
  },
  {
   "cell_type": "code",
   "execution_count": 185,
   "id": "6a4f8c27",
   "metadata": {},
   "outputs": [
    {
     "name": "stdout",
     "output_type": "stream",
     "text": [
      "Pass\n"
     ]
    }
   ],
   "source": [
    "print (\"Pass\" if  (int(math.sqrt(1000000000000000000000)) == sqrt(1000000000000000000000)) else \"Fail\")\n"
   ]
  },
  {
   "cell_type": "markdown",
   "id": "4bf34eed",
   "metadata": {},
   "source": [
    "### Case4"
   ]
  },
  {
   "cell_type": "code",
   "execution_count": 186,
   "id": "399d6b5f",
   "metadata": {},
   "outputs": [
    {
     "name": "stdout",
     "output_type": "stream",
     "text": [
      "Pass\n"
     ]
    }
   ],
   "source": [
    "import math\n",
    "print (\"Pass\" if  (int(math.sqrt(0)) == sqrt(0)) else \"Fail\")\n"
   ]
  },
  {
   "cell_type": "code",
   "execution_count": null,
   "id": "0fb856c6",
   "metadata": {},
   "outputs": [],
   "source": []
  }
 ],
 "metadata": {
  "kernelspec": {
   "display_name": "Python 3 (ipykernel)",
   "language": "python",
   "name": "python3"
  },
  "language_info": {
   "codemirror_mode": {
    "name": "ipython",
    "version": 3
   },
   "file_extension": ".py",
   "mimetype": "text/x-python",
   "name": "python",
   "nbconvert_exporter": "python",
   "pygments_lexer": "ipython3",
   "version": "3.9.7"
  }
 },
 "nbformat": 4,
 "nbformat_minor": 5
}
