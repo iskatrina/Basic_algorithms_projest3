{
 "cells": [
  {
   "cell_type": "code",
   "execution_count": 99,
   "id": "04d8c400",
   "metadata": {},
   "outputs": [],
   "source": [
    "## A RouteTrie will store our routes and their associated handlers\n",
    "class RouteTrie:\n",
    "    def __init__(self, root_handler=\"Root Handler\"):\n",
    "        # Initialize the trie with an root node and a handler, this is the root path or home page node\n",
    "        self.root = RouteTrieNode(root_handler)\n",
    "\n",
    "    def insert(self, path,handler):\n",
    "        # Similar to our previous example you will want to recursively add nodes\n",
    "        # Make sure you assign the handler to only the leaf (deepest) node of this path\n",
    "        current_node = self.root\n",
    "\n",
    "        for part in path:\n",
    "            if part not in current_node.children:\n",
    "                current_node.children[part] = RouteTrieNode()\n",
    "            current_node = current_node.children[part]\n",
    "\n",
    "        current_node.handler = handler\n",
    "\n",
    "    def find(self, path):\n",
    "        # Starting at the root, navigate the Trie to find a match for this path\n",
    "        # Return the handler for a match, or None for no match\n",
    "        current_node = self.root\n",
    "\n",
    "        for part in path:\n",
    "            if part not in current_node.children:\n",
    "                return None\n",
    "            current_node = current_node.children[part]\n",
    "\n",
    "        return current_node.handler\n",
    "\n",
    "## A RouteTrieNode will be similar to our autocomplete TrieNode... with one additional element, a handler.\n",
    "class RouteTrieNode:\n",
    "    def __init__(self, handler=None):\n",
    "        # Initialize the node with children as before, plus a handler\n",
    "        self.handler = handler\n",
    "        self.children = {}\n",
    "\n",
    "\n",
    "    def insert(self, path_part, handler=None):\n",
    "         # Insert the node \n",
    "        if path_part not in self.children:\n",
    "            self.children[path_part] = RouteTrieNode(handler)\n",
    "        elif handler:\n",
    "            self.children[path_part].handler = handler"
   ]
  },
  {
   "cell_type": "code",
   "execution_count": 100,
   "id": "4577a20c",
   "metadata": {},
   "outputs": [],
   "source": [
    "## The Router class will wrap the Trie and handle \n",
    "class Router:\n",
    "    def __init__(self, root_handler=\"Root Handler\", not_found_response_handler=\"404 Not Found\"):\n",
    "        # Create a new RouteTrie for holding our routes\n",
    "        # You could also add a handler for 404 page not found responses as well!\n",
    "        self.route_trie = RouteTrie(root_handler)\n",
    "        self.not_found_response_handler = not_found_response_handler\n",
    "        \n",
    "    def add_handler(self, path, handler):\n",
    "        # Add a handler for a path\n",
    "        # You will need to split the path and pass the pass parts\n",
    "        # as a list to the RouteTrie\n",
    "        path_parts = self.split_path(path)\n",
    "        self.route_trie.insert(path_parts, handler)\n",
    "\n",
    "        \n",
    "    def lookup(self, path):\n",
    "        # lookup path (by parts) and return the associated handler\n",
    "        # you can return None if it's not found or\n",
    "        # return the \"not found\" handler if you added one\n",
    "        # bonus points if a path works with and without a trailing slash\n",
    "        # e.g. /about and /about/ both return the /about handler\n",
    "        path_parts = self.split_path(path)\n",
    "        handler = self.route_trie.find(path_parts)\n",
    "\n",
    "        return handler if handler else self.not_found_response_handler\n",
    "        \n",
    "    \n",
    "    def split_path(self, path):\n",
    "        # you need to split the path into parts for \n",
    "        # both the add_handler and loopup functions,\n",
    "        # so it should be placed in a function here\n",
    "        return [part for part in path.split('/') if part]\n",
    "       "
   ]
  },
  {
   "cell_type": "code",
   "execution_count": null,
   "id": "629ac7c8",
   "metadata": {},
   "outputs": [],
   "source": []
  },
  {
   "cell_type": "markdown",
   "id": "b4c5db80",
   "metadata": {},
   "source": [
    "### Test cases:"
   ]
  },
  {
   "cell_type": "code",
   "execution_count": 101,
   "id": "2f13f0fb",
   "metadata": {},
   "outputs": [
    {
     "name": "stdout",
     "output_type": "stream",
     "text": [
      "root handler\n",
      "not found handler\n",
      "about handler\n",
      "about handler\n",
      "not found handler\n"
     ]
    }
   ],
   "source": [
    "## Here are some test cases and expected outputs you can use to test your implementation\n",
    "\n",
    "## create the router and add a route\n",
    "router = Router(\"root handler\", \"not found handler\") # remove the 'not found handler' if you did not implement this\n",
    "router.add_handler(\"/home/about\", \"about handler\")  # add a route\n",
    "\n",
    "## some lookups with the expected output\n",
    "print(router.lookup(\"/\")) # should print 'root handler'\n",
    "print(router.lookup(\"/home\")) # should print 'not found handler' or None if you did not implement one\n",
    "print(router.lookup(\"/home/about\")) # should print 'about handler'\n",
    "print(router.lookup(\"/home/about/\")) # should print 'about handler' or None if you did not handle trailing slashes\n",
    "print(router.lookup(\"/home/about/me\")) # should print 'not found handler' or None if you did not implement one\n"
   ]
  },
  {
   "cell_type": "markdown",
   "id": "072a3c3c",
   "metadata": {},
   "source": [
    "## My test cases:"
   ]
  },
  {
   "cell_type": "markdown",
   "id": "f87f3cbb",
   "metadata": {},
   "source": [
    "### Test case1:"
   ]
  },
  {
   "cell_type": "code",
   "execution_count": 103,
   "id": "ec77bab6",
   "metadata": {},
   "outputs": [
    {
     "name": "stdout",
     "output_type": "stream",
     "text": [
      "home\n",
      "about me handler\n",
      "contact handler\n",
      "portfolio handler\n",
      "services data scientist handler\n",
      "services game artist handler\n",
      "404 Not Found\n"
     ]
    }
   ],
   "source": [
    "# Example usage:\n",
    "router = Router()\n",
    "\n",
    "# Adding handlers for different paths\n",
    "router.add_handler(\"/\", \"home\")\n",
    "router.add_handler(\"/about me\", \"about me handler\")\n",
    "router.add_handler(\"/contact\", \"contact handler\")\n",
    "router.add_handler(\"/portfolio\", \"portfolio handler\")\n",
    "router.add_handler(\"/services/data scientist\", \"services data scientist handler\")\n",
    "router.add_handler(\"/services/game artist\", \"services game artist handler\")\n",
    "\n",
    "# Looking up handlers based on paths\n",
    "print(router.lookup(\"/\"))           # output: home \n",
    "print(router.lookup(\"/about me\"))   # output: about me handler\n",
    "print(router.lookup(\"/contact\"))    # output: hontact handler\n",
    "print(router.lookup(\"/portfolio\"))       # output: portfolio handler\n",
    "print(router.lookup(\"/services/data scientist\"))  # output: services data scientist handler\n",
    "print(router.lookup(\"/services/game artist\"))  # output: services game artist handler\n",
    "print(router.lookup(\"/unknown\"))    # output: 404 Not Found\n"
   ]
  },
  {
   "cell_type": "code",
   "execution_count": null,
   "id": "63a59f08",
   "metadata": {},
   "outputs": [],
   "source": []
  },
  {
   "cell_type": "markdown",
   "id": "b4e5d2a5",
   "metadata": {},
   "source": [
    "### Test case2:"
   ]
  },
  {
   "cell_type": "code",
   "execution_count": 104,
   "id": "f356c5eb",
   "metadata": {},
   "outputs": [
    {
     "name": "stdout",
     "output_type": "stream",
     "text": [
      "home\n",
      "1 handler\n",
      "2 handler\n",
      "3 handler\n",
      "4/1 handler\n",
      "4/2 handler\n",
      "404 Not Found\n"
     ]
    }
   ],
   "source": [
    "# Example usage:\n",
    "router = Router()\n",
    "\n",
    "# Adding handlers for different paths\n",
    "router.add_handler(\"/\", \"home\")\n",
    "router.add_handler(\"/1\", \"1 handler\")\n",
    "router.add_handler(\"/2\", \"2 handler\")\n",
    "router.add_handler(\"/3\", \"3 handler\")\n",
    "router.add_handler(\"/4/1\", \"4/1 handler\")\n",
    "router.add_handler(\"/4/2\", \"4/2 handler\")\n",
    "\n",
    "# Looking up handlers based on paths\n",
    "print(router.lookup(\"/\"))           # output: home \n",
    "print(router.lookup(\"/1\"))   # output: 1 handler\n",
    "print(router.lookup(\"/2\"))    # output: 2 handler\n",
    "print(router.lookup(\"/3\"))       # output: 3 handler\n",
    "print(router.lookup(\"/4/1\"))  # output: 4/1 handler\n",
    "print(router.lookup(\"/4/2\"))  # output: 4/2 handler\n",
    "print(router.lookup(\"/unknown\"))    # output: 404 Not Found\n"
   ]
  },
  {
   "cell_type": "code",
   "execution_count": null,
   "id": "4442b09a",
   "metadata": {},
   "outputs": [],
   "source": []
  },
  {
   "cell_type": "markdown",
   "id": "d9264cb9",
   "metadata": {},
   "source": [
    "### Test case3:"
   ]
  },
  {
   "cell_type": "code",
   "execution_count": 106,
   "id": "d93b007a",
   "metadata": {},
   "outputs": [
    {
     "name": "stdout",
     "output_type": "stream",
     "text": [
      "home\n",
      "about me, contact, portfolio,services, ds, artist /1/2/3/4/5/6/7/8/9/10 handler \n"
     ]
    }
   ],
   "source": [
    "# Example usage:\n",
    "router = Router()\n",
    "\n",
    "# Adding handlers for different paths\n",
    "router.add_handler(\"/\", \"home\")\n",
    "router.add_handler(\"/about me/contact/portfolio/services/ds/artist/1/2/3/4/5/6/7/8/9/10\", \"about me, contact, portfolio,services, ds, artist /1/2/3/4/5/6/7/8/9/10 handler \")\n",
    "\n",
    "# Looking up handlers based on paths\n",
    "print(router.lookup(\"/\"))           # output: home \n",
    "print(router.lookup(\"/about me/contact/portfolio/services/ds/artist/1/2/3/4/5/6/7/8/9/10\"))   # output: about me, contact, portfolio,services, ds, artist /1/2/3/4/5/6/7/8/9/10 handler \n"
   ]
  },
  {
   "cell_type": "code",
   "execution_count": null,
   "id": "aeadd4d3",
   "metadata": {},
   "outputs": [],
   "source": []
  },
  {
   "cell_type": "code",
   "execution_count": null,
   "id": "a71c6638",
   "metadata": {},
   "outputs": [],
   "source": []
  },
  {
   "cell_type": "code",
   "execution_count": null,
   "id": "3b78fe21",
   "metadata": {},
   "outputs": [],
   "source": []
  },
  {
   "cell_type": "code",
   "execution_count": null,
   "id": "0a6002dc",
   "metadata": {},
   "outputs": [],
   "source": []
  }
 ],
 "metadata": {
  "kernelspec": {
   "display_name": "Python 3 (ipykernel)",
   "language": "python",
   "name": "python3"
  },
  "language_info": {
   "codemirror_mode": {
    "name": "ipython",
    "version": 3
   },
   "file_extension": ".py",
   "mimetype": "text/x-python",
   "name": "python",
   "nbconvert_exporter": "python",
   "pygments_lexer": "ipython3",
   "version": "3.9.7"
  }
 },
 "nbformat": 4,
 "nbformat_minor": 5
}
