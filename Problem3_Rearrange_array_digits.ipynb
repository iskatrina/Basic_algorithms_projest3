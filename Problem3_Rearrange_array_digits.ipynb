{
 "cells": [
  {
   "cell_type": "code",
   "execution_count": 91,
   "id": "d68cd9d6",
   "metadata": {},
   "outputs": [],
   "source": [
    "def rearrange_digits(arr):\n",
    "    \"\"\"\n",
    "    Rearrange Array Elements so as to form two number such that their sum is maximum.\n",
    "\n",
    "    Args:\n",
    "       input_list(list): Input List\n",
    "    Returns:\n",
    "       (int),(int): Two maximum sums\n",
    "       \n",
    "    \"\"\"\n",
    "    # Sort the array using merge sort\n",
    "    merge_sort(arr)\n",
    "\n",
    "    # Create two numbers by combining alternate elements in reverse order\n",
    "    num1, num2 = 0, 0\n",
    "    for i, num in enumerate(arr):\n",
    "        if i % 2 == 0:\n",
    "            num1 = num1 * 10 + num\n",
    "        else:\n",
    "            num2 = num2 * 10 + num\n",
    "\n",
    "    return [num1, num2]\n",
    "\n",
    "    \n",
    "    \n",
    "def merge_sort(arr):\n",
    "    if len(arr) > 1:\n",
    "        mid = len(arr) // 2\n",
    "        left_half = arr[:mid]\n",
    "        right_half = arr[mid:]\n",
    "\n",
    "        merge_sort(left_half)\n",
    "        merge_sort(right_half)\n",
    "\n",
    "        i = j = k = 0\n",
    "\n",
    "        while i < len(left_half) and j < len(right_half):\n",
    "            if left_half[i] > right_half[j]:\n",
    "                arr[k] = left_half[i]\n",
    "                i += 1\n",
    "            else:\n",
    "                arr[k] = right_half[j]\n",
    "                j += 1\n",
    "            k += 1\n",
    "\n",
    "        while i < len(left_half):\n",
    "            arr[k] = left_half[i]\n",
    "            i += 1\n",
    "            k += 1\n",
    "\n",
    "        while j < len(right_half):\n",
    "            arr[k] = right_half[j]\n",
    "            j += 1\n",
    "            k += 1\n",
    "    "
   ]
  },
  {
   "cell_type": "code",
   "execution_count": 92,
   "id": "85be498e",
   "metadata": {},
   "outputs": [
    {
     "name": "stdout",
     "output_type": "stream",
     "text": [
      "None\n"
     ]
    }
   ],
   "source": [
    "print(merge_sort(arr=[9,3,1,1,2,3,4,7]))"
   ]
  },
  {
   "cell_type": "code",
   "execution_count": 93,
   "id": "0784e32e",
   "metadata": {},
   "outputs": [
    {
     "data": {
      "text/plain": [
       "[9, 7, 4, 3, 3, 2, 1, 1]"
      ]
     },
     "execution_count": 93,
     "metadata": {},
     "output_type": "execute_result"
    }
   ],
   "source": [
    "mergesort([9,3,1,1,2,3,4,7])"
   ]
  },
  {
   "cell_type": "code",
   "execution_count": 94,
   "id": "46aebed4",
   "metadata": {},
   "outputs": [
    {
     "name": "stdout",
     "output_type": "stream",
     "text": [
      "Pass\n"
     ]
    }
   ],
   "source": [
    "def test_function(test_case):\n",
    "    output = rearrange_digits(test_case[0])\n",
    "    solution = test_case[1]\n",
    "    if sum(output) == sum(solution):\n",
    "        print(\"Pass\")\n",
    "    else:\n",
    "        print(\"Fail\")\n",
    "\n",
    "test_function([[1, 2, 3, 4, 5], [542, 31]])\n"
   ]
  },
  {
   "cell_type": "code",
   "execution_count": 96,
   "id": "58626a81",
   "metadata": {},
   "outputs": [
    {
     "name": "stdout",
     "output_type": "stream",
     "text": [
      "Pass\n"
     ]
    }
   ],
   "source": [
    "test_function([[4, 6, 2, 5, 9, 8], [964, 852]])\n"
   ]
  },
  {
   "cell_type": "code",
   "execution_count": 98,
   "id": "652bc4f2",
   "metadata": {},
   "outputs": [
    {
     "data": {
      "text/plain": [
       "[531, 42]"
      ]
     },
     "execution_count": 98,
     "metadata": {},
     "output_type": "execute_result"
    }
   ],
   "source": [
    "rearrange_digits([1,2,3,4,5])"
   ]
  },
  {
   "cell_type": "markdown",
   "id": "2f5b889a",
   "metadata": {},
   "source": [
    "## My own test cases:"
   ]
  },
  {
   "cell_type": "markdown",
   "id": "cfd20e21",
   "metadata": {},
   "source": [
    "### Test case1 (empty): "
   ]
  },
  {
   "cell_type": "code",
   "execution_count": 102,
   "id": "137204b8",
   "metadata": {},
   "outputs": [
    {
     "name": "stdout",
     "output_type": "stream",
     "text": [
      "Pass\n"
     ]
    }
   ],
   "source": [
    "test_function([[], []])\n"
   ]
  },
  {
   "cell_type": "markdown",
   "id": "9a33897c",
   "metadata": {},
   "source": [
    "### Test case2(very large):"
   ]
  },
  {
   "cell_type": "code",
   "execution_count": 109,
   "id": "37ffb870",
   "metadata": {},
   "outputs": [],
   "source": [
    "test2 = [i for i in range(1,1000)]"
   ]
  },
  {
   "cell_type": "code",
   "execution_count": 110,
   "id": "8585d1b5",
   "metadata": {},
   "outputs": [
    {
     "data": {
      "text/plain": [
       "[11097530864197530864197530864197530864197530864197530864197530864197530864197530864197530864197530864197530864197530864197530864197530864197530864197530864197530864197530864197530864197530864197530864197530864197530864197530864197530864197530864197530864197530864197530864197530864197530864197530864197530864197530864197530864197530864197530864197530864197530864197530864197530864197530864197530864197530864197530864197530864197530864197530864197530864197530864197530864197530864197530864197530864197531,\n",
       " 1108641975308641975308641975308641975308641975308641975308641975308641975308641975308641975308641975308641975308641975308641975308641975308641975308641975308641975308641975308641975308641975308641975308641975308641975308641975308641975308641975308641975308641975308641975308641975308641975308641975308641975308641975308641975308641975308641975308641975308641975308641975308641975308641975308641975308641975308641975308641975308641975308641975308641975308641975308641975308641975308641975308641975308642]"
      ]
     },
     "execution_count": 110,
     "metadata": {},
     "output_type": "execute_result"
    }
   ],
   "source": [
    "rearrange_digits(test2)"
   ]
  },
  {
   "cell_type": "markdown",
   "id": "d81afefb",
   "metadata": {},
   "source": [
    "### Test case3:"
   ]
  },
  {
   "cell_type": "code",
   "execution_count": 111,
   "id": "3bce3564",
   "metadata": {},
   "outputs": [],
   "source": [
    "test3 = [23,65,3,7,8,9,2]"
   ]
  },
  {
   "cell_type": "code",
   "execution_count": 113,
   "id": "8671f371",
   "metadata": {},
   "outputs": [
    {
     "data": {
      "text/plain": [
       "[65972, 2383]"
      ]
     },
     "execution_count": 113,
     "metadata": {},
     "output_type": "execute_result"
    }
   ],
   "source": [
    "rearrange_digits(test3)"
   ]
  },
  {
   "cell_type": "code",
   "execution_count": null,
   "id": "2cde5518",
   "metadata": {},
   "outputs": [],
   "source": []
  }
 ],
 "metadata": {
  "kernelspec": {
   "display_name": "Python 3 (ipykernel)",
   "language": "python",
   "name": "python3"
  },
  "language_info": {
   "codemirror_mode": {
    "name": "ipython",
    "version": 3
   },
   "file_extension": ".py",
   "mimetype": "text/x-python",
   "name": "python",
   "nbconvert_exporter": "python",
   "pygments_lexer": "ipython3",
   "version": "3.9.7"
  }
 },
 "nbformat": 4,
 "nbformat_minor": 5
}
